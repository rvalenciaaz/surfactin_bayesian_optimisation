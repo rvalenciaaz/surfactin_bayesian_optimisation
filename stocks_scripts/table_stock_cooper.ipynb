{
 "cells": [
  {
   "cell_type": "code",
   "execution_count": 1,
   "id": "e1894b03",
   "metadata": {},
   "outputs": [],
   "source": [
    "import pandas as pd"
   ]
  },
  {
   "cell_type": "code",
   "execution_count": 2,
   "id": "4079de4b",
   "metadata": {},
   "outputs": [],
   "source": [
    "maxvol=80\n",
    "dim=9"
   ]
  },
  {
   "cell_type": "code",
   "execution_count": 3,
   "id": "f46385c3",
   "metadata": {},
   "outputs": [],
   "source": [
    "comp=[\"Glucose\",\"NH4NO3\",\"MgSO4\",\"KH2PO4\",\"Na2HPO4\",\"Na2EDTA\",\"CaCl2\",\"FeSO4\",\"MnSO4\"]\n",
    "voli=[maxvol]*dim"
   ]
  },
  {
   "cell_type": "code",
   "execution_count": 4,
   "id": "04d2e717",
   "metadata": {},
   "outputs": [],
   "source": [
    "datos=pd.DataFrame({\"compound\":comp,\"max_vol\":voli})"
   ]
  },
  {
   "cell_type": "code",
   "execution_count": 5,
   "id": "27521f8f",
   "metadata": {},
   "outputs": [
    {
     "data": {
      "text/html": [
       "<div>\n",
       "<style scoped>\n",
       "    .dataframe tbody tr th:only-of-type {\n",
       "        vertical-align: middle;\n",
       "    }\n",
       "\n",
       "    .dataframe tbody tr th {\n",
       "        vertical-align: top;\n",
       "    }\n",
       "\n",
       "    .dataframe thead th {\n",
       "        text-align: right;\n",
       "    }\n",
       "</style>\n",
       "<table border=\"1\" class=\"dataframe\">\n",
       "  <thead>\n",
       "    <tr style=\"text-align: right;\">\n",
       "      <th></th>\n",
       "      <th>compound</th>\n",
       "      <th>max_vol</th>\n",
       "    </tr>\n",
       "  </thead>\n",
       "  <tbody>\n",
       "    <tr>\n",
       "      <th>0</th>\n",
       "      <td>Glucose</td>\n",
       "      <td>80</td>\n",
       "    </tr>\n",
       "    <tr>\n",
       "      <th>1</th>\n",
       "      <td>NH4NO3</td>\n",
       "      <td>80</td>\n",
       "    </tr>\n",
       "    <tr>\n",
       "      <th>2</th>\n",
       "      <td>MgSO4</td>\n",
       "      <td>80</td>\n",
       "    </tr>\n",
       "    <tr>\n",
       "      <th>3</th>\n",
       "      <td>KH2PO4</td>\n",
       "      <td>80</td>\n",
       "    </tr>\n",
       "    <tr>\n",
       "      <th>4</th>\n",
       "      <td>Na2HPO4</td>\n",
       "      <td>80</td>\n",
       "    </tr>\n",
       "    <tr>\n",
       "      <th>5</th>\n",
       "      <td>Na2EDTA</td>\n",
       "      <td>80</td>\n",
       "    </tr>\n",
       "    <tr>\n",
       "      <th>6</th>\n",
       "      <td>CaCl2</td>\n",
       "      <td>80</td>\n",
       "    </tr>\n",
       "    <tr>\n",
       "      <th>7</th>\n",
       "      <td>FeSO4</td>\n",
       "      <td>80</td>\n",
       "    </tr>\n",
       "    <tr>\n",
       "      <th>8</th>\n",
       "      <td>MnSO4</td>\n",
       "      <td>80</td>\n",
       "    </tr>\n",
       "  </tbody>\n",
       "</table>\n",
       "</div>"
      ],
      "text/plain": [
       "  compound  max_vol\n",
       "0  Glucose       80\n",
       "1   NH4NO3       80\n",
       "2    MgSO4       80\n",
       "3   KH2PO4       80\n",
       "4  Na2HPO4       80\n",
       "5  Na2EDTA       80\n",
       "6    CaCl2       80\n",
       "7    FeSO4       80\n",
       "8    MnSO4       80"
      ]
     },
     "execution_count": 5,
     "metadata": {},
     "output_type": "execute_result"
    }
   ],
   "source": [
    "datos"
   ]
  },
  {
   "cell_type": "code",
   "execution_count": 6,
   "id": "ecc4902d",
   "metadata": {},
   "outputs": [],
   "source": [
    "datos[\"min_concentration_mM\"]=[0]*dim\n",
    "datos[\"max_concentration_mM\"]=[4,240,2,50,50,0.2,0.2,0.2,0.2]"
   ]
  },
  {
   "cell_type": "code",
   "execution_count": 7,
   "id": "b686a8fc",
   "metadata": {},
   "outputs": [],
   "source": [
    "datos[\"max_stock_mM\"]=800*datos[\"max_concentration_mM\"]/(datos[\"max_vol\"])"
   ]
  },
  {
   "cell_type": "code",
   "execution_count": 8,
   "id": "142b7aa1",
   "metadata": {},
   "outputs": [],
   "source": [
    "datos.to_csv(\"stock_table_cooper.csv\",index=False)"
   ]
  },
  {
   "cell_type": "code",
   "execution_count": 9,
   "id": "455f6430",
   "metadata": {},
   "outputs": [],
   "source": [
    "#glucose in %, so 10\n",
    "#nh4no3 80.043\n",
    "#mgso4 heptahydrate 246.47\n",
    "#kh2po4 136.086\n",
    "#na2hpo4 141.96\n",
    "#naedta dihydrate 374.27\n",
    "#cacl2 dihydrate 147.01\n",
    "#feso4 heptahydrate 278.02\n",
    "#mnso4 monohydrate 169.02\n",
    "moldic=dict(zip(comp,[10, 80.043,246.47,136.086,141.96,372.24,147.01,278.02,169.02]))"
   ]
  },
  {
   "cell_type": "code",
   "execution_count": 10,
   "id": "1ca7bab1",
   "metadata": {},
   "outputs": [],
   "source": [
    "datos[\"weight_250_volume_g\"]=(datos[\"max_stock_mM\"]*datos[\"compound\"].apply(lambda x: moldic[x])*250)/(1000*1000)\n",
    "datos[\"weight_250_volume_mg\"]=datos[\"weight_250_volume_g\"]*1000"
   ]
  },
  {
   "cell_type": "code",
   "execution_count": 11,
   "id": "e8562216",
   "metadata": {
    "scrolled": true
   },
   "outputs": [],
   "source": [
    "datos.to_csv(\"cooper_preparation_single_components.csv\",index=False)\n",
    "datos.to_excel(\"cooper_preparation_single_components.xlsx\", index=False)"
   ]
  },
  {
   "cell_type": "code",
   "execution_count": 12,
   "id": "99bce99b",
   "metadata": {},
   "outputs": [],
   "source": [
    "revi=datos[[\"compound\",\"max_stock_mM\"]].copy()"
   ]
  },
  {
   "cell_type": "code",
   "execution_count": 13,
   "id": "db0fb056",
   "metadata": {},
   "outputs": [],
   "source": [
    "revi[\"cooper_concentration_mM\"]=[4,50,0.8,30,40,0.004,0.007,0.004,0.001]"
   ]
  },
  {
   "cell_type": "code",
   "execution_count": 14,
   "id": "6950909d",
   "metadata": {},
   "outputs": [],
   "source": [
    "#revi[\"copper_volume\"]=\n",
    "#revi[\"copper_volume\"]=\n",
    "revi[\"cooper_salts_2x_volume_100_ml\"]=2*revi[\"cooper_concentration_mM\"]*100/revi[\"max_stock_mM\"]\n",
    "revi[\"cooper_volume_20_ml\"]=revi[\"cooper_concentration_mM\"]*20*1000/revi[\"max_stock_mM\"]"
   ]
  },
  {
   "cell_type": "code",
   "execution_count": 15,
   "id": "a37277f5",
   "metadata": {},
   "outputs": [
    {
     "data": {
      "text/html": [
       "<div>\n",
       "<style scoped>\n",
       "    .dataframe tbody tr th:only-of-type {\n",
       "        vertical-align: middle;\n",
       "    }\n",
       "\n",
       "    .dataframe tbody tr th {\n",
       "        vertical-align: top;\n",
       "    }\n",
       "\n",
       "    .dataframe thead th {\n",
       "        text-align: right;\n",
       "    }\n",
       "</style>\n",
       "<table border=\"1\" class=\"dataframe\">\n",
       "  <thead>\n",
       "    <tr style=\"text-align: right;\">\n",
       "      <th></th>\n",
       "      <th>compound</th>\n",
       "      <th>max_stock_mM</th>\n",
       "      <th>cooper_concentration_mM</th>\n",
       "      <th>cooper_salts_2x_volume_100_ml</th>\n",
       "      <th>cooper_volume_20_ml</th>\n",
       "    </tr>\n",
       "  </thead>\n",
       "  <tbody>\n",
       "    <tr>\n",
       "      <th>0</th>\n",
       "      <td>Glucose</td>\n",
       "      <td>40.0</td>\n",
       "      <td>4.000</td>\n",
       "      <td>20.000000</td>\n",
       "      <td>2000.000000</td>\n",
       "    </tr>\n",
       "    <tr>\n",
       "      <th>1</th>\n",
       "      <td>NH4NO3</td>\n",
       "      <td>2400.0</td>\n",
       "      <td>50.000</td>\n",
       "      <td>4.166667</td>\n",
       "      <td>416.666667</td>\n",
       "    </tr>\n",
       "    <tr>\n",
       "      <th>2</th>\n",
       "      <td>MgSO4</td>\n",
       "      <td>20.0</td>\n",
       "      <td>0.800</td>\n",
       "      <td>8.000000</td>\n",
       "      <td>800.000000</td>\n",
       "    </tr>\n",
       "    <tr>\n",
       "      <th>3</th>\n",
       "      <td>KH2PO4</td>\n",
       "      <td>500.0</td>\n",
       "      <td>30.000</td>\n",
       "      <td>12.000000</td>\n",
       "      <td>1200.000000</td>\n",
       "    </tr>\n",
       "    <tr>\n",
       "      <th>4</th>\n",
       "      <td>Na2HPO4</td>\n",
       "      <td>500.0</td>\n",
       "      <td>40.000</td>\n",
       "      <td>16.000000</td>\n",
       "      <td>1600.000000</td>\n",
       "    </tr>\n",
       "    <tr>\n",
       "      <th>5</th>\n",
       "      <td>Na2EDTA</td>\n",
       "      <td>2.0</td>\n",
       "      <td>0.004</td>\n",
       "      <td>0.400000</td>\n",
       "      <td>40.000000</td>\n",
       "    </tr>\n",
       "    <tr>\n",
       "      <th>6</th>\n",
       "      <td>CaCl2</td>\n",
       "      <td>2.0</td>\n",
       "      <td>0.007</td>\n",
       "      <td>0.700000</td>\n",
       "      <td>70.000000</td>\n",
       "    </tr>\n",
       "    <tr>\n",
       "      <th>7</th>\n",
       "      <td>FeSO4</td>\n",
       "      <td>2.0</td>\n",
       "      <td>0.004</td>\n",
       "      <td>0.400000</td>\n",
       "      <td>40.000000</td>\n",
       "    </tr>\n",
       "    <tr>\n",
       "      <th>8</th>\n",
       "      <td>MnSO4</td>\n",
       "      <td>2.0</td>\n",
       "      <td>0.001</td>\n",
       "      <td>0.100000</td>\n",
       "      <td>10.000000</td>\n",
       "    </tr>\n",
       "  </tbody>\n",
       "</table>\n",
       "</div>"
      ],
      "text/plain": [
       "  compound  max_stock_mM  cooper_concentration_mM  \\\n",
       "0  Glucose          40.0                    4.000   \n",
       "1   NH4NO3        2400.0                   50.000   \n",
       "2    MgSO4          20.0                    0.800   \n",
       "3   KH2PO4         500.0                   30.000   \n",
       "4  Na2HPO4         500.0                   40.000   \n",
       "5  Na2EDTA           2.0                    0.004   \n",
       "6    CaCl2           2.0                    0.007   \n",
       "7    FeSO4           2.0                    0.004   \n",
       "8    MnSO4           2.0                    0.001   \n",
       "\n",
       "   cooper_salts_2x_volume_100_ml  cooper_volume_20_ml  \n",
       "0                      20.000000          2000.000000  \n",
       "1                       4.166667           416.666667  \n",
       "2                       8.000000           800.000000  \n",
       "3                      12.000000          1200.000000  \n",
       "4                      16.000000          1600.000000  \n",
       "5                       0.400000            40.000000  \n",
       "6                       0.700000            70.000000  \n",
       "7                       0.400000            40.000000  \n",
       "8                       0.100000            10.000000  "
      ]
     },
     "execution_count": 15,
     "metadata": {},
     "output_type": "execute_result"
    }
   ],
   "source": [
    "revi"
   ]
  },
  {
   "cell_type": "code",
   "execution_count": 16,
   "id": "1bf18ff1",
   "metadata": {},
   "outputs": [],
   "source": [
    "revi[\"max_stock_M\"]=revi[\"max_stock_mM\"]/1000"
   ]
  },
  {
   "cell_type": "code",
   "execution_count": 17,
   "id": "4f14adc6",
   "metadata": {},
   "outputs": [],
   "source": [
    "revi.to_csv(\"cooper_preparation_tubes.csv\",index=False)\n",
    "revi.to_excel(\"cooper_preparation_tubes.xlsx\", index=False)"
   ]
  },
  {
   "cell_type": "code",
   "execution_count": 18,
   "id": "2fd5621e",
   "metadata": {},
   "outputs": [
    {
     "data": {
      "text/plain": [
       "13823.333333333334"
      ]
     },
     "execution_count": 18,
     "metadata": {},
     "output_type": "execute_result"
    }
   ],
   "source": [
    "20000-sum(revi[\"cooper_volume_20_ml\"])"
   ]
  },
  {
   "cell_type": "code",
   "execution_count": null,
   "id": "8342a8c1",
   "metadata": {},
   "outputs": [],
   "source": []
  },
  {
   "cell_type": "code",
   "execution_count": null,
   "id": "51077f1f",
   "metadata": {},
   "outputs": [],
   "source": []
  }
 ],
 "metadata": {
  "kernelspec": {
   "display_name": "Python [conda env:datos]",
   "language": "python",
   "name": "conda-env-datos-py"
  },
  "language_info": {
   "codemirror_mode": {
    "name": "ipython",
    "version": 3
   },
   "file_extension": ".py",
   "mimetype": "text/x-python",
   "name": "python",
   "nbconvert_exporter": "python",
   "pygments_lexer": "ipython3",
   "version": "3.10.6"
  }
 },
 "nbformat": 4,
 "nbformat_minor": 5
}
