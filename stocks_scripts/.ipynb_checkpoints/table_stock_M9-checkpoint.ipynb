{
 "cells": [
  {
   "cell_type": "code",
   "execution_count": 1,
   "id": "e1894b03",
   "metadata": {},
   "outputs": [],
   "source": [
    "import pandas as pd"
   ]
  },
  {
   "cell_type": "code",
   "execution_count": 2,
   "id": "4079de4b",
   "metadata": {},
   "outputs": [],
   "source": [
    "maxvol=80\n",
    "dim=7"
   ]
  },
  {
   "cell_type": "code",
   "execution_count": 3,
   "id": "f46385c3",
   "metadata": {},
   "outputs": [],
   "source": [
    "comp=[\"Glucose\",\"NH4Cl\",\"MgSO4\",\"KH2PO4\",\"Na2HPO4\",\"CaCl2\",\"NaCl\"]\n",
    "voli=[maxvol]*dim"
   ]
  },
  {
   "cell_type": "code",
   "execution_count": 4,
   "id": "04d2e717",
   "metadata": {},
   "outputs": [],
   "source": [
    "datos=pd.DataFrame({\"compound\":comp,\"max_vol\":voli})"
   ]
  },
  {
   "cell_type": "code",
   "execution_count": 5,
   "id": "27521f8f",
   "metadata": {},
   "outputs": [
    {
     "data": {
      "text/html": [
       "<div>\n",
       "<style scoped>\n",
       "    .dataframe tbody tr th:only-of-type {\n",
       "        vertical-align: middle;\n",
       "    }\n",
       "\n",
       "    .dataframe tbody tr th {\n",
       "        vertical-align: top;\n",
       "    }\n",
       "\n",
       "    .dataframe thead th {\n",
       "        text-align: right;\n",
       "    }\n",
       "</style>\n",
       "<table border=\"1\" class=\"dataframe\">\n",
       "  <thead>\n",
       "    <tr style=\"text-align: right;\">\n",
       "      <th></th>\n",
       "      <th>compound</th>\n",
       "      <th>max_vol</th>\n",
       "    </tr>\n",
       "  </thead>\n",
       "  <tbody>\n",
       "    <tr>\n",
       "      <th>0</th>\n",
       "      <td>Glucose</td>\n",
       "      <td>80</td>\n",
       "    </tr>\n",
       "    <tr>\n",
       "      <th>1</th>\n",
       "      <td>NH4Cl</td>\n",
       "      <td>80</td>\n",
       "    </tr>\n",
       "    <tr>\n",
       "      <th>2</th>\n",
       "      <td>MgSO4</td>\n",
       "      <td>80</td>\n",
       "    </tr>\n",
       "    <tr>\n",
       "      <th>3</th>\n",
       "      <td>KH2PO4</td>\n",
       "      <td>80</td>\n",
       "    </tr>\n",
       "    <tr>\n",
       "      <th>4</th>\n",
       "      <td>Na2HPO4</td>\n",
       "      <td>80</td>\n",
       "    </tr>\n",
       "    <tr>\n",
       "      <th>5</th>\n",
       "      <td>CaCl2</td>\n",
       "      <td>80</td>\n",
       "    </tr>\n",
       "    <tr>\n",
       "      <th>6</th>\n",
       "      <td>NaCl</td>\n",
       "      <td>80</td>\n",
       "    </tr>\n",
       "  </tbody>\n",
       "</table>\n",
       "</div>"
      ],
      "text/plain": [
       "  compound  max_vol\n",
       "0  Glucose       80\n",
       "1    NH4Cl       80\n",
       "2    MgSO4       80\n",
       "3   KH2PO4       80\n",
       "4  Na2HPO4       80\n",
       "5    CaCl2       80\n",
       "6     NaCl       80"
      ]
     },
     "execution_count": 5,
     "metadata": {},
     "output_type": "execute_result"
    }
   ],
   "source": [
    "datos"
   ]
  },
  {
   "cell_type": "code",
   "execution_count": 6,
   "id": "ecc4902d",
   "metadata": {},
   "outputs": [],
   "source": [
    "datos[\"min_concentration_mM\"]=[0]*dim\n",
    "datos[\"max_concentration_mM\"]=[4,240,2,50,50,0.2,50]"
   ]
  },
  {
   "cell_type": "code",
   "execution_count": 7,
   "id": "b686a8fc",
   "metadata": {},
   "outputs": [],
   "source": [
    "datos[\"max_stock_mM\"]=800*datos[\"max_concentration_mM\"]/(datos[\"max_vol\"])"
   ]
  },
  {
   "cell_type": "code",
   "execution_count": 8,
   "id": "142b7aa1",
   "metadata": {},
   "outputs": [],
   "source": [
    "datos.to_csv(\"stock_table_M9.csv\",index=False)"
   ]
  },
  {
   "cell_type": "code",
   "execution_count": 9,
   "id": "455f6430",
   "metadata": {},
   "outputs": [],
   "source": [
    "\n",
    "#glucose in %, so 10\n",
    "#nh4cl 53.491\n",
    "#mgso4 heptahydrate 246.47\n",
    "#kh2po4 136.086\n",
    "#na2hpo4 141.96\n",
    "#cacl2 dihydrate 147.01\n",
    "#nacl 58.443\n",
    "moldic=dict(zip(comp,[10, 53.491,246.47,136.086,141.96,147.01,58.443]))"
   ]
  },
  {
   "cell_type": "code",
   "execution_count": 10,
   "id": "1ca7bab1",
   "metadata": {},
   "outputs": [],
   "source": [
    "datos[\"weight_250_volume_g\"]=(datos[\"max_stock_mM\"]*datos[\"compound\"].apply(lambda x: moldic[x])*250)/(1000*1000)\n",
    "datos[\"weight_250_volume_mg\"]=datos[\"weight_250_volume_g\"]*1000"
   ]
  },
  {
   "cell_type": "code",
   "execution_count": 11,
   "id": "e8562216",
   "metadata": {
    "scrolled": true
   },
   "outputs": [],
   "source": [
    "datos.to_csv(\"M9_preparation_single_components.csv\",index=False)\n",
    "datos.to_excel(\"M9_preparation_single_components.xlsx\", index=False)"
   ]
  },
  {
   "cell_type": "code",
   "execution_count": 12,
   "id": "99bce99b",
   "metadata": {},
   "outputs": [],
   "source": [
    "revi=datos[[\"compound\",\"max_stock_mM\"]].copy()"
   ]
  },
  {
   "cell_type": "code",
   "execution_count": 13,
   "id": "db0fb056",
   "metadata": {},
   "outputs": [],
   "source": [
    "revi[\"M9_concentration_mM\"]=[0.4,18.7,2,22.04,42.26,0.1,8.55]"
   ]
  },
  {
   "cell_type": "code",
   "execution_count": 14,
   "id": "6950909d",
   "metadata": {},
   "outputs": [],
   "source": [
    "#revi[\"copper_volume\"]=\n",
    "revi[\"M9_salts_2x_volume_100_ml\"]=2*revi[\"M9_concentration_mM\"]*100/revi[\"max_stock_mM\"]\n",
    "revi[\"M9_volume_20_ml\"]=revi[\"M9_concentration_mM\"]*20*1000/revi[\"max_stock_mM\"]"
   ]
  },
  {
   "cell_type": "code",
   "execution_count": 15,
   "id": "1bf18ff1",
   "metadata": {},
   "outputs": [],
   "source": [
    "revi[\"max_stock_M\"]=revi[\"max_stock_mM\"]/1000"
   ]
  },
  {
   "cell_type": "code",
   "execution_count": 16,
   "id": "4f14adc6",
   "metadata": {},
   "outputs": [],
   "source": [
    "revi.to_csv(\"M9_preparation_tubes.csv\",index=False)\n",
    "revi.to_excel(\"M9_preparation_tubes.xlsx\", index=False)"
   ]
  },
  {
   "cell_type": "code",
   "execution_count": 17,
   "id": "2fd5621e",
   "metadata": {},
   "outputs": [
    {
     "data": {
      "text/plain": [
       "13730.166666666668"
      ]
     },
     "execution_count": 17,
     "metadata": {},
     "output_type": "execute_result"
    }
   ],
   "source": [
    "20000-sum(revi[\"M9_volume_20_ml\"])"
   ]
  },
  {
   "cell_type": "code",
   "execution_count": 36,
   "id": "8342a8c1",
   "metadata": {},
   "outputs": [],
   "source": [
    "#100-(8+12+16+0.4+0.7+0.4+0.1)"
   ]
  },
  {
   "cell_type": "code",
   "execution_count": 37,
   "id": "51077f1f",
   "metadata": {},
   "outputs": [
    {
     "data": {
      "text/html": [
       "<div>\n",
       "<style scoped>\n",
       "    .dataframe tbody tr th:only-of-type {\n",
       "        vertical-align: middle;\n",
       "    }\n",
       "\n",
       "    .dataframe tbody tr th {\n",
       "        vertical-align: top;\n",
       "    }\n",
       "\n",
       "    .dataframe thead th {\n",
       "        text-align: right;\n",
       "    }\n",
       "</style>\n",
       "<table border=\"1\" class=\"dataframe\">\n",
       "  <thead>\n",
       "    <tr style=\"text-align: right;\">\n",
       "      <th></th>\n",
       "      <th>compound</th>\n",
       "      <th>max_stock_mM</th>\n",
       "      <th>M9_concentration_mM</th>\n",
       "      <th>M9_salts_2x_volume_100_ml</th>\n",
       "      <th>M9_volume_20_ml</th>\n",
       "      <th>max_stock_M</th>\n",
       "    </tr>\n",
       "  </thead>\n",
       "  <tbody>\n",
       "    <tr>\n",
       "      <th>0</th>\n",
       "      <td>Glucose</td>\n",
       "      <td>40.0</td>\n",
       "      <td>0.40</td>\n",
       "      <td>2.000000</td>\n",
       "      <td>200.000000</td>\n",
       "      <td>0.040</td>\n",
       "    </tr>\n",
       "    <tr>\n",
       "      <th>1</th>\n",
       "      <td>NH4Cl</td>\n",
       "      <td>2400.0</td>\n",
       "      <td>18.70</td>\n",
       "      <td>1.558333</td>\n",
       "      <td>155.833333</td>\n",
       "      <td>2.400</td>\n",
       "    </tr>\n",
       "    <tr>\n",
       "      <th>2</th>\n",
       "      <td>MgSO4</td>\n",
       "      <td>20.0</td>\n",
       "      <td>2.00</td>\n",
       "      <td>20.000000</td>\n",
       "      <td>2000.000000</td>\n",
       "      <td>0.020</td>\n",
       "    </tr>\n",
       "    <tr>\n",
       "      <th>3</th>\n",
       "      <td>KH2PO4</td>\n",
       "      <td>500.0</td>\n",
       "      <td>22.04</td>\n",
       "      <td>8.816000</td>\n",
       "      <td>881.600000</td>\n",
       "      <td>0.500</td>\n",
       "    </tr>\n",
       "    <tr>\n",
       "      <th>4</th>\n",
       "      <td>Na2HPO4</td>\n",
       "      <td>500.0</td>\n",
       "      <td>42.26</td>\n",
       "      <td>16.904000</td>\n",
       "      <td>1690.400000</td>\n",
       "      <td>0.500</td>\n",
       "    </tr>\n",
       "    <tr>\n",
       "      <th>5</th>\n",
       "      <td>CaCl2</td>\n",
       "      <td>2.0</td>\n",
       "      <td>0.10</td>\n",
       "      <td>10.000000</td>\n",
       "      <td>1000.000000</td>\n",
       "      <td>0.002</td>\n",
       "    </tr>\n",
       "    <tr>\n",
       "      <th>6</th>\n",
       "      <td>NaCl</td>\n",
       "      <td>500.0</td>\n",
       "      <td>8.55</td>\n",
       "      <td>3.420000</td>\n",
       "      <td>342.000000</td>\n",
       "      <td>0.500</td>\n",
       "    </tr>\n",
       "  </tbody>\n",
       "</table>\n",
       "</div>"
      ],
      "text/plain": [
       "  compound  max_stock_mM  M9_concentration_mM  M9_salts_2x_volume_100_ml  \\\n",
       "0  Glucose          40.0                 0.40                   2.000000   \n",
       "1    NH4Cl        2400.0                18.70                   1.558333   \n",
       "2    MgSO4          20.0                 2.00                  20.000000   \n",
       "3   KH2PO4         500.0                22.04                   8.816000   \n",
       "4  Na2HPO4         500.0                42.26                  16.904000   \n",
       "5    CaCl2           2.0                 0.10                  10.000000   \n",
       "6     NaCl         500.0                 8.55                   3.420000   \n",
       "\n",
       "   M9_volume_20_ml  max_stock_M  \n",
       "0       200.000000        0.040  \n",
       "1       155.833333        2.400  \n",
       "2      2000.000000        0.020  \n",
       "3       881.600000        0.500  \n",
       "4      1690.400000        0.500  \n",
       "5      1000.000000        0.002  \n",
       "6       342.000000        0.500  "
      ]
     },
     "execution_count": 37,
     "metadata": {},
     "output_type": "execute_result"
    }
   ],
   "source": [
    "revi"
   ]
  },
  {
   "cell_type": "code",
   "execution_count": 57,
   "id": "89768289",
   "metadata": {},
   "outputs": [
    {
     "data": {
      "text/plain": [
       "0     0.40\n",
       "1    18.70\n",
       "2     2.00\n",
       "3    22.04\n",
       "4    42.26\n",
       "5     0.10\n",
       "6     8.55\n",
       "dtype: float64"
      ]
     },
     "execution_count": 57,
     "metadata": {},
     "output_type": "execute_result"
    }
   ],
   "source": [
    "revi[\"M9_volume_20_ml\"]/20*revi[\"max_stock_mM\"]"
   ]
  },
  {
   "cell_type": "code",
   "execution_count": null,
   "id": "9f357a89",
   "metadata": {},
   "outputs": [],
   "source": []
  }
 ],
 "metadata": {
  "kernelspec": {
   "display_name": "Python [conda env:datos]",
   "language": "python",
   "name": "conda-env-datos-py"
  },
  "language_info": {
   "codemirror_mode": {
    "name": "ipython",
    "version": 3
   },
   "file_extension": ".py",
   "mimetype": "text/x-python",
   "name": "python",
   "nbconvert_exporter": "python",
   "pygments_lexer": "ipython3",
   "version": "3.10.6"
  }
 },
 "nbformat": 4,
 "nbformat_minor": 5
}
