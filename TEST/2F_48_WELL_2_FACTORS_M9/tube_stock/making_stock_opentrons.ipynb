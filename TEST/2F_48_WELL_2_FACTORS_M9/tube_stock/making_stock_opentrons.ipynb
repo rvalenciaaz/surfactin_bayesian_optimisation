{
 "cells": [
  {
   "cell_type": "code",
   "execution_count": 40,
   "id": "7d707edf",
   "metadata": {},
   "outputs": [],
   "source": [
    "import pandas as pd\n",
    "import numpy as np"
   ]
  },
  {
   "cell_type": "code",
   "execution_count": 41,
   "id": "7da5a028",
   "metadata": {},
   "outputs": [],
   "source": [
    "df=pd.read_csv(\"0_tube_stock.csv\")"
   ]
  },
  {
   "cell_type": "code",
   "execution_count": 42,
   "id": "db0a09f3",
   "metadata": {},
   "outputs": [],
   "source": [
    "iteration=0\n",
    "dim=7"
   ]
  },
  {
   "cell_type": "code",
   "execution_count": 43,
   "id": "5c58a7e9",
   "metadata": {},
   "outputs": [],
   "source": [
    "re1=[\"A1\",\"A2\",\"A3\",\"A4\",\"A5\",\"A6\",\"B1\",\"B2\",\"B3\"]\n",
    "re2=[\"C1\",\"C2\",\"C3\",\"C4\",\"C5\",\"C6\",\"D1\",\"D2\",\"D3\"]\n",
    "racknumber=int(np.ceil(dim/2))\n",
    "rackcode={\"Glucose\":(\"1\",\"1\"),\"NH4Cl\":(\"1\",\"2\"),\"MgSO4\":(\"2\",\"1\"),\"KH2PO4\":(\"2\",\"2\"),\n",
    "        \"Na2HPO4\":(\"3\",\"1\"),\"CaCl2\":(\"3\",\"2\"),\"NaCl\": (\"4\",\"1\")}\n",
    "bigcode={\"Glucose\":\"A1\",\"NH4Cl\":\"A2\",\"MgSO4\":\"A3\",\"KH2PO4\":\"A4\",\n",
    "        \"Na2HPO4\":\"A5\",\"CaCl2\":\"A6\",\"NaCl\": \"B1\"}"
   ]
  },
  {
   "cell_type": "code",
   "execution_count": 47,
   "id": "55773ef7",
   "metadata": {},
   "outputs": [],
   "source": [
    "with open(\"../opentrons_scripts/\"+str(iteration)+\"_stock_opentrons.py\",\"w\") as f:\n",
    "    f.write(\"from opentrons import protocol_api\\nmetadata = {'apiLevel': '2.13'}\\ndef run(protocol: protocol_api.ProtocolContext):\\n\")\n",
    "    f.write(\"\\ttiprack_2 = protocol.load_labware('opentrons_96_tiprack_300ul', 11)\\n\\ttiprack_1 = protocol.load_labware('opentrons_96_tiprack_1000ul',10)\\n\")\n",
    "    for rn in range(1, racknumber+1):\n",
    "        f.write(\"\\treservoir_\"+str(rn)+\"= protocol.load_labware('opentrons_24_tuberack_eppendorf_2ml_safelock_snapcap',\"+str(rn)+\")\\n\")\n",
    "    f.write(\"\\tbig= protocol.load_labware('corning_12_wellplate_6.9ml_flat',9)\\n\\tbig2= protocol.load_labware('corning_12_wellplate_6.9ml_flat',7)\\n\\tp300 = protocol.load_instrument('p300_single', 'left', tip_racks=[tiprack_2])\\n\\tp1000 = protocol.load_instrument('p1000_single', 'right', tip_racks=[tiprack_1])\\n\")\n",
    "    for i in pd.unique(df.columns[1:]):\n",
    "        df2=df[[\"sample\",i]].copy().reset_index(drop=True)\n",
    "        f.write(\"\\t#\"+i+\"\\n\")\n",
    "        if (df2[i] <= 300).all():\n",
    "            f.write(\"\\tp300.pick_up_tip()\\n\")\n",
    "        elif (df2[i] > 300).all():\n",
    "            f.write(\"\\tp1000.pick_up_tip()\\n\") \n",
    "        else:\n",
    "            f.write(\"\\tp300.pick_up_tip()\\n\")\n",
    "            f.write(\"\\tp1000.pick_up_tip()\\n\")\n",
    "        cati=i.split(\"_\")\n",
    "        rackdata=rackcode[cati[1]]\n",
    "        if rackdata[1]==\"1\":\n",
    "            linea=re1\n",
    "        else:\n",
    "            linea=re2\n",
    "        if cati[0]==\"Vol\":\n",
    "            for iq,j in df2.iterrows():\n",
    "                if ((j[i]<=300) & (j[i]!=0)):\n",
    "                    f.write(\"\\tp300.aspirate(\"+str(j[i])+\",big['\"+bigcode[cati[1]]+\"'],rate=0.7)\\n\")\n",
    "                    f.write(\"\\tp300.dispense(\"+str(j[i])+\",reservoir_\"+rackdata[0]+\"['\"+linea[iq]+\"'],rate=0.7)\\n\")\n",
    "                if ((j[i]>300) & (j[i]<=1000)):\n",
    "                    f.write(\"\\tp1000.aspirate(\"+str(j[i])+\",big['\"+bigcode[cati[1]]+\"'],rate=0.7)\\n\")\n",
    "                    f.write(\"\\tp1000.dispense(\"+str(j[i])+\",reservoir_\"+rackdata[0]+\"['\"+linea[iq]+\"'],rate=0.7)\\n\")\n",
    "                if ((j[i]>1000)):\n",
    "                    newfor=\"{:.2f}\".format(j[i]/2)\n",
    "                    f.write(\"\\tp1000.aspirate(\"+newfor+\",big['\"+bigcode[cati[1]]+\"'],rate=0.7)\\n\")\n",
    "                    f.write(\"\\tp1000.dispense(\"+newfor+\",reservoir_\"+rackdata[0]+\"['\"+linea[iq]+\"'],rate=0.7)\\n\")\n",
    "                    f.write(\"\\tp1000.aspirate(\"+newfor+\",big['\"+bigcode[cati[1]]+\"'],rate=0.7)\\n\")\n",
    "                    f.write(\"\\tp1000.dispense(\"+newfor+\",reservoir_\"+rackdata[0]+\"['\"+linea[iq]+\"'],rate=0.7)\\n\")\n",
    "        else:\n",
    "            for iq,j in df2.iterrows():\n",
    "                if ((j[i]<=300) & (j[i]!=0)):\n",
    "                    f.write(\"\\tp300.aspirate(\"+str(j[i])+\",big2['A2'],rate=0.7)\\n\")\n",
    "                    f.write(\"\\tp300.dispense(\"+str(j[i])+\",reservoir_\"+rackdata[0]+\"['\"+linea[iq]+\"'],rate=0.7)\\n\")\n",
    "                if ((j[i]>300) & (j[i]<=1000)):\n",
    "                    f.write(\"\\tp1000.aspirate(\"+str(j[i])+\",big2['A2'],rate=0.7)\\n\")\n",
    "                    f.write(\"\\tp1000.dispense(\"+str(j[i])+\",reservoir_\"+rackdata[0]+\"['\"+linea[iq]+\"'],rate=0.7)\\n\")\n",
    "                if ((j[i]>1000)):\n",
    "                    newfor=\"{:.2f}\".format(j[i]/2)\n",
    "                    f.write(\"\\tp1000.aspirate(\"+newfor+\",big['\"+bigcode[cati[1]]+\"'],rate=0.7)\\n\")\n",
    "                    f.write(\"\\tp1000.dispense(\"+newfor+\",reservoir_\"+rackdata[0]+\"['\"+linea[iq]+\"'],rate=0.7)\\n\")\n",
    "                    f.write(\"\\tp1000.aspirate(\"+newfor+\",big['\"+bigcode[cati[1]]+\"'],rate=0.7)\\n\")\n",
    "                    f.write(\"\\tp1000.dispense(\"+newfor+\",reservoir_\"+rackdata[0]+\"['\"+linea[iq]+\"'],rate=0.7)\\n\")\n",
    "        if (df2[i] <= 300).all():\n",
    "            f.write(\"\\tp300.drop_tip()\\n\")\n",
    "        elif (df2[i] >= 1000).all():\n",
    "            f.write(\"\\tp1000.drop_tip()\\n\") \n",
    "        else:\n",
    "            f.write(\"\\tp300.drop_tip()\\n\")\n",
    "            f.write(\"\\tp1000.drop_tip()\\n\")"
   ]
  },
  {
   "cell_type": "code",
   "execution_count": null,
   "id": "560f6069",
   "metadata": {},
   "outputs": [],
   "source": []
  },
  {
   "cell_type": "code",
   "execution_count": null,
   "id": "a4a6267e",
   "metadata": {},
   "outputs": [],
   "source": []
  }
 ],
 "metadata": {
  "kernelspec": {
   "display_name": "Python [conda env:boaxlatest]",
   "language": "python",
   "name": "conda-env-boaxlatest-py"
  },
  "language_info": {
   "codemirror_mode": {
    "name": "ipython",
    "version": 3
   },
   "file_extension": ".py",
   "mimetype": "text/x-python",
   "name": "python",
   "nbconvert_exporter": "python",
   "pygments_lexer": "ipython3",
   "version": "3.10.10"
  }
 },
 "nbformat": 4,
 "nbformat_minor": 5
}
