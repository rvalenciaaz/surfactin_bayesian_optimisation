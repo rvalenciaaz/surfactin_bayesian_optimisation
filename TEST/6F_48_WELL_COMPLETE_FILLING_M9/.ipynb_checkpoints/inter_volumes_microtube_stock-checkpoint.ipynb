{
 "cells": [
  {
   "cell_type": "code",
   "execution_count": 70,
   "id": "f4b7e735",
   "metadata": {},
   "outputs": [],
   "source": [
    "#!/usr/bin/env python\n",
    "# coding: utf-8\n",
    "\n",
    "import matplotlib.pyplot as plt\n",
    "import numpy as np\n",
    "import pandas as pd\n",
    "import random\n",
    "import string\n",
    "from functools import reduce\n",
    "import matplotlib.patches as mpatches"
   ]
  },
  {
   "cell_type": "code",
   "execution_count": 71,
   "id": "c1191371",
   "metadata": {},
   "outputs": [],
   "source": [
    "dim=2\n",
    "iteration=0"
   ]
  },
  {
   "cell_type": "code",
   "execution_count": 72,
   "id": "48117378",
   "metadata": {},
   "outputs": [],
   "source": [
    "sam=pd.read_csv(\"samples/\"+str(iteration)+\"_samples.csv\")\n",
    "samples=sam.copy()\n",
    "\n",
    "#stock data\n",
    "labels={\"Glucose\":(0,4,40),\"NH4Cl\":(0,240,2400)}\n",
    "for j in samples.columns[1:]:\n",
    "    samples[\"Vol_\"+j]=((samples[j]*labels[j][1])*800/80)*2000/labels[j][2]\n",
    "    samples[\"Water_\"+j]=2000-samples[\"Vol_\"+j]"
   ]
  },
  {
   "cell_type": "code",
   "execution_count": null,
   "id": "ae57aa22",
   "metadata": {},
   "outputs": [],
   "source": []
  },
  {
   "cell_type": "code",
   "execution_count": null,
   "id": "e849cf6e",
   "metadata": {},
   "outputs": [],
   "source": []
  },
  {
   "cell_type": "code",
   "execution_count": null,
   "id": "218da673",
   "metadata": {},
   "outputs": [],
   "source": []
  },
  {
   "cell_type": "code",
   "execution_count": null,
   "id": "c3b30811",
   "metadata": {},
   "outputs": [],
   "source": []
  },
  {
   "cell_type": "code",
   "execution_count": null,
   "id": "457d759a",
   "metadata": {},
   "outputs": [],
   "source": []
  },
  {
   "cell_type": "code",
   "execution_count": null,
   "id": "7950f105",
   "metadata": {},
   "outputs": [],
   "source": []
  },
  {
   "cell_type": "code",
   "execution_count": null,
   "id": "c532c8d7",
   "metadata": {},
   "outputs": [],
   "source": []
  },
  {
   "cell_type": "code",
   "execution_count": null,
   "id": "c282ee21",
   "metadata": {},
   "outputs": [],
   "source": []
  },
  {
   "cell_type": "code",
   "execution_count": null,
   "id": "c8d3d99f",
   "metadata": {},
   "outputs": [],
   "source": []
  },
  {
   "cell_type": "code",
   "execution_count": null,
   "id": "79422703",
   "metadata": {},
   "outputs": [],
   "source": []
  },
  {
   "cell_type": "code",
   "execution_count": null,
   "id": "89920596",
   "metadata": {},
   "outputs": [],
   "source": []
  }
 ],
 "metadata": {
  "kernelspec": {
   "display_name": "Python [conda env:botorch06]",
   "language": "python",
   "name": "conda-env-botorch06-py"
  },
  "language_info": {
   "codemirror_mode": {
    "name": "ipython",
    "version": 3
   },
   "file_extension": ".py",
   "mimetype": "text/x-python",
   "name": "python",
   "nbconvert_exporter": "python",
   "pygments_lexer": "ipython3",
   "version": "3.9.13"
  }
 },
 "nbformat": 4,
 "nbformat_minor": 5
}
