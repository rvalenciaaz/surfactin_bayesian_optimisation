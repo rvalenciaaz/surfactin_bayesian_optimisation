{
 "cells": [
  {
   "cell_type": "code",
   "execution_count": 32,
   "id": "614c6c0c",
   "metadata": {},
   "outputs": [],
   "source": [
    "import pandas as pd\n",
    "import seaborn as sns\n",
    "import random"
   ]
  },
  {
   "cell_type": "code",
   "execution_count": 33,
   "id": "5bb6adbe",
   "metadata": {},
   "outputs": [],
   "source": [
    "random.seed(1245)"
   ]
  },
  {
   "cell_type": "code",
   "execution_count": 34,
   "id": "1106f4b6",
   "metadata": {},
   "outputs": [],
   "source": [
    "samples=pd.read_csv(\"0_samples_space_fill.csv\")"
   ]
  },
  {
   "cell_type": "code",
   "execution_count": 35,
   "id": "22117f16",
   "metadata": {},
   "outputs": [],
   "source": [
    "# Create a list with 7 copies of each number\n",
    "numbers = [str(0), str(1), str(2)] * 7\n",
    "\n",
    "# Shuffle the list randomly\n",
    "random.shuffle(numbers)\n"
   ]
  },
  {
   "cell_type": "code",
   "execution_count": 36,
   "id": "cd48757c",
   "metadata": {},
   "outputs": [],
   "source": [
    "samples[\"batch\"]=numbers"
   ]
  },
  {
   "cell_type": "code",
   "execution_count": 48,
   "id": "98993493",
   "metadata": {},
   "outputs": [
    {
     "name": "stdout",
     "output_type": "stream",
     "text": [
      "  sample   Glucose     NH4Cl\n",
      "0    1_1  0.333686  0.135488\n",
      "1    1_2  0.707623  0.048708\n",
      "2    1_3  0.081232  0.086236\n",
      "3    1_4  0.266129  0.867119\n",
      "4    1_5  0.303932  0.450492\n",
      "5    1_6  0.540082  0.840201\n",
      "6    1_7  0.113844  0.721612\n",
      "  sample   Glucose     NH4Cl\n",
      "0    0_1  0.573743  0.527028\n",
      "1    0_2  0.757970  0.300838\n",
      "2    0_3  0.447912  0.657169\n",
      "3    0_4  0.642269  0.949890\n",
      "4    0_5  0.955096  0.221755\n",
      "5    0_6  0.825305  0.696650\n",
      "6    0_7  0.514369  0.475577\n",
      "  sample   Glucose     NH4Cl\n",
      "0    2_1  0.021590  0.911250\n",
      "1    2_2  0.133804  0.389965\n",
      "2    2_3  0.897649  0.779554\n",
      "3    2_4  0.390245  0.341432\n",
      "4    2_5  0.199425  0.611342\n",
      "5    2_6  0.854131  0.113275\n",
      "6    2_7  0.230026  0.195937\n"
     ]
    }
   ],
   "source": [
    "for bnum in pd.unique(samples[\"batch\"]):\n",
    "    df=samples.loc[samples[\"batch\"]==bnum].reset_index(drop=True).reset_index()\n",
    "    df[\"sample\"]=df.apply(lambda x: x[\"batch\"]+\"_\"+str(x[\"index\"]+1),axis=1)\n",
    "    df2=df.drop([\"index\",\"batch\"],axis=1)\n",
    "    df2.to_csv(str(bnum)+\"_samples.csv\", index=False)\n",
    "    print(df2)"
   ]
  },
  {
   "cell_type": "code",
   "execution_count": null,
   "id": "4514e070",
   "metadata": {},
   "outputs": [],
   "source": []
  },
  {
   "cell_type": "code",
   "execution_count": null,
   "id": "53d539ca",
   "metadata": {},
   "outputs": [],
   "source": []
  }
 ],
 "metadata": {
  "kernelspec": {
   "display_name": "Python [conda env:boaxlatest]",
   "language": "python",
   "name": "conda-env-boaxlatest-py"
  },
  "language_info": {
   "codemirror_mode": {
    "name": "ipython",
    "version": 3
   },
   "file_extension": ".py",
   "mimetype": "text/x-python",
   "name": "python",
   "nbconvert_exporter": "python",
   "pygments_lexer": "ipython3",
   "version": "3.10.10"
  }
 },
 "nbformat": 4,
 "nbformat_minor": 5
}
