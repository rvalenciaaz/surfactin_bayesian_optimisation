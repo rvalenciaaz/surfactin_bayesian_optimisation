{
 "cells": [
  {
   "cell_type": "code",
   "execution_count": 1,
   "id": "02da94f6",
   "metadata": {},
   "outputs": [],
   "source": [
    "import pandas as pd\n",
    "\n",
    "labels_df = pd.DataFrame({\n",
    "        'Component': ['Glucose', 'NH4Cl', 'MgSO4', 'KH2PO4', 'Na2HPO4', 'CaCl2', 'NaCl'],\n",
    "        'Min_Conc': [0, 0, 0, 0, 0, 0, 0],\n",
    "        'Max_Conc': [4, 240, 2, 50, 50, 0.2, 50],\n",
    "        'Stock_Conc': [40, 2400, 20, 500, 500, 2, 500]\n",
    "    })\n",
    "\n",
    "labels_df.to_csv(\"component_data_M9_space.csv\",index=False)"
   ]
  },
  {
   "cell_type": "code",
   "execution_count": 2,
   "id": "f817a794",
   "metadata": {},
   "outputs": [],
   "source": [
    "maxvol=80\n",
    "ref_values=pd.DataFrame({\"sample\":[\"0_REF\",\"0_CTRL\"],\"Glucose\":[maxvol]*2,\"NH4Cl\":[maxvol]*2,\"MgSO4\":[maxvol]*2,\"KH2PO4\":[maxvol]*2,\n",
    "       \"Na2HPO4\":[maxvol]*2,\"CaCl2\":[maxvol]*2,\"NaCl\":[maxvol]*2})\n",
    "ref_values.to_csv(\"M9_reference_samples.csv\",index=False)"
   ]
  },
  {
   "cell_type": "code",
   "execution_count": null,
   "id": "8dbda997",
   "metadata": {},
   "outputs": [],
   "source": []
  }
 ],
 "metadata": {
  "kernelspec": {
   "display_name": "Python [conda env:boaxlatest]",
   "language": "python",
   "name": "conda-env-boaxlatest-py"
  },
  "language_info": {
   "codemirror_mode": {
    "name": "ipython",
    "version": 3
   },
   "file_extension": ".py",
   "mimetype": "text/x-python",
   "name": "python",
   "nbconvert_exporter": "python",
   "pygments_lexer": "ipython3",
   "version": "3.10.10"
  }
 },
 "nbformat": 4,
 "nbformat_minor": 5
}
