{
 "cells": [
  {
   "cell_type": "code",
   "execution_count": 1,
   "id": "4c7f1ba5-72f2-41f4-a88d-33bb74fa0acb",
   "metadata": {},
   "outputs": [],
   "source": [
    "import pandas as pd\n",
    "import matplotlib.pyplot as plt\n",
    "import seaborn as sns\n",
    "import numpy as np\n",
    "\n",
    "# Load the data\n",
    "file_path = '0_batch_corrected.csv'\n",
    "data = pd.read_csv(file_path, usecols=['Sample', 'SurfactinC'])\n",
    "\n",
    "# Extract batch, sample type, and replicate information\n",
    "data[['Batch', 'SampleType', 'Replicate']] = data['Sample'].str.split('_', expand=True)\n",
    "\n",
    "# Add a 'Batch_SampleType' column for grouping\n",
    "data['Batch_SampleType'] = data['Batch'] + '_' + data['SampleType']\n",
    "#data[\"SurfactinC\"]=data[\"SurfactinC\"].apply(np.log)\n"
   ]
  },
  {
   "cell_type": "code",
   "execution_count": 2,
   "id": "64648b59-85af-48a8-9fe9-318f6bec9bf1",
   "metadata": {},
   "outputs": [],
   "source": [
    "# Calculate mean SurfactinC concentration for each 'Batch_SampleType' and sort\n",
    "mean_concentration = data.groupby('Batch_SampleType')['SurfactinC'].mean().reset_index()\n",
    "mean_concentration_sorted = mean_concentration.sort_values(by='SurfactinC')['Batch_SampleType']"
   ]
  },
  {
   "cell_type": "code",
   "execution_count": 3,
   "id": "32fd0d89-f1bb-45ae-acef-a85aafb08c28",
   "metadata": {},
   "outputs": [],
   "source": [
    "refs=mean_concentration[mean_concentration[\"Batch_SampleType\"].apply(lambda x: \"QC\" in x)].copy()"
   ]
  },
  {
   "cell_type": "code",
   "execution_count": 4,
   "id": "2de0d60e-aef9-43a1-99f5-e2f45fb491ee",
   "metadata": {},
   "outputs": [],
   "source": [
    "refs[\"Batch_SampleType\"]=refs[\"Batch_SampleType\"].apply(lambda x: x[0])"
   ]
  },
  {
   "cell_type": "code",
   "execution_count": 5,
   "id": "952d742a-dd1b-42a2-af39-bf55c482f82f",
   "metadata": {},
   "outputs": [],
   "source": [
    "ref_dictio=dict(zip(refs[\"Batch_SampleType\"].tolist(),refs[\"SurfactinC\"].tolist()))"
   ]
  },
  {
   "cell_type": "code",
   "execution_count": 6,
   "id": "32702262-9021-4109-818c-bf7d7f7f6932",
   "metadata": {},
   "outputs": [
    {
     "data": {
      "text/plain": [
       "{'0': 463714.472613722,\n",
       " '1': 463663.4289331288,\n",
       " '2': 463650.4212741394,\n",
       " '3': 463703.6732557308,\n",
       " '4': 463659.4765523662,\n",
       " '5': 463790.9248384902}"
      ]
     },
     "execution_count": 6,
     "metadata": {},
     "output_type": "execute_result"
    }
   ],
   "source": [
    "ref_dictio"
   ]
  },
  {
   "cell_type": "code",
   "execution_count": 7,
   "id": "5570102f-84e7-4f13-b846-0c188916c9ef",
   "metadata": {},
   "outputs": [],
   "source": [
    "# Correcting the column name and performing the division\n",
    "data['SurfactinC'] = data.apply(lambda row: row['SurfactinC'] / ref_dictio[row['Batch']], axis=1)"
   ]
  },
  {
   "cell_type": "code",
   "execution_count": 8,
   "id": "d28dba9c-ed98-483f-981e-8ee46b8e4f29",
   "metadata": {},
   "outputs": [],
   "source": [
    "#data.to_csv(\"test.csv\",index=False)"
   ]
  },
  {
   "cell_type": "code",
   "execution_count": 9,
   "id": "c603fb2c-d21f-4b47-9c96-821912c39fed",
   "metadata": {},
   "outputs": [],
   "source": [
    "# Calculate mean SurfactinC concentration for each 'Batch_SampleType' and sort\n",
    "mean_concentration = data.groupby('Batch_SampleType')['SurfactinC'].mean().reset_index()\n",
    "mean_concentration_sorted = mean_concentration.sort_values(by='SurfactinC')['Batch_SampleType']"
   ]
  },
  {
   "cell_type": "code",
   "execution_count": 10,
   "id": "7d49eb7e-2107-4d39-80a3-599d3e62f8f9",
   "metadata": {},
   "outputs": [],
   "source": [
    "# Calculate mean SurfactinC concentration for each 'Batch_SampleType' and sort\n",
    "var_concentration = data.groupby('Batch_SampleType')['SurfactinC'].sem().reset_index()\n",
    "var_concentration_sorted = var_concentration.sort_values(by='SurfactinC')['Batch_SampleType']"
   ]
  },
  {
   "cell_type": "code",
   "execution_count": 11,
   "id": "1dd7374b-a9eb-4221-ba12-fede9f7c7706",
   "metadata": {},
   "outputs": [],
   "source": [
    "mean_concentration.to_csv(\"SurfactinC_mean_no_log.csv\",index=False)\n",
    "mean_concentration.to_csv(\"SurfactinC_sem_no_log.csv\",index=False)\n",
    "data.to_csv(\"SurfactinC_data_no_log.csv\",index=False)"
   ]
  },
  {
   "cell_type": "code",
   "execution_count": 12,
   "id": "b9482d6a-47e1-45aa-b9c4-2f11f5105015",
   "metadata": {},
   "outputs": [
    {
     "name": "stderr",
     "output_type": "stream",
     "text": [
      "/tmp/ipykernel_13124/388144671.py:17: FutureWarning: \n",
      "\n",
      "Passing `palette` without assigning `hue` is deprecated and will be removed in v0.14.0. Assign the `x` variable to `hue` and set `legend=False` for the same effect.\n",
      "\n",
      "  sns.boxplot(x='Batch_SampleType', y='SurfactinC', data=data,\n"
     ]
    }
   ],
   "source": [
    " #Define the color palette\n",
    "palette = {\n",
    "    '0': '#0000FF',  # Blue\n",
    "    '1': '#FF0000',  # Red\n",
    "    '2': '#77DD77',  # Pastel Green\n",
    "    '3': '#FDFD96',  # Pastel Yellow\n",
    "    '4': '#800080',  # Purple\n",
    "    '5': '#ADD8E6',  # Light Blue\n",
    "}\n",
    "\n",
    "# Map each batch to its corresponding color\n",
    "data['Color'] = data['Batch'].map(lambda x: palette[x])\n",
    "\n",
    "# Create and adjust the figure for plotting\n",
    "plt.figure(figsize=(14, 8))\n",
    "# Plot using the order specified by 'mean_concentration_sorted'\n",
    "sns.boxplot(x='Batch_SampleType', y='SurfactinC', data=data,\n",
    "            palette=data.set_index('Batch_SampleType')['Color'].to_dict(),\n",
    "            order=mean_concentration_sorted)\n",
    "\n",
    "plt.xticks(rotation=90,fontsize=16)\n",
    "plt.yticks(fontsize=16)\n",
    "plt.xlabel('Batch_SampleType',fontsize=20)\n",
    "plt.ylabel('Surfactin C Titre (log)',fontsize=20)\n",
    "plt.title('Surfactin C Titre by Batch and Sample Type Ordered by Mean Titre',fontsize=20)\n",
    "plt.tight_layout()\n",
    "\n",
    "# Saving the plot\n",
    "save_path = 'surfactinc_concentration_boxplot_ordered_no_log_QC.png'\n",
    "plt.savefig(save_path, dpi=600, transparent=True)\n",
    "plt.close()  # Close the plot"
   ]
  },
  {
   "cell_type": "code",
   "execution_count": null,
   "id": "a7161ae9-28ec-4261-8b9b-27d5f797294f",
   "metadata": {},
   "outputs": [],
   "source": []
  }
 ],
 "metadata": {
  "kernelspec": {
   "display_name": "Python 3 (ipykernel)",
   "language": "python",
   "name": "python3"
  },
  "language_info": {
   "codemirror_mode": {
    "name": "ipython",
    "version": 3
   },
   "file_extension": ".py",
   "mimetype": "text/x-python",
   "name": "python",
   "nbconvert_exporter": "python",
   "pygments_lexer": "ipython3",
   "version": "3.10.13"
  }
 },
 "nbformat": 4,
 "nbformat_minor": 5
}
