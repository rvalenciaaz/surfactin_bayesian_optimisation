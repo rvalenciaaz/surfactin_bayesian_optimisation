{
 "cells": [
  {
   "cell_type": "code",
   "execution_count": 1,
   "id": "e1894b03",
   "metadata": {},
   "outputs": [],
   "source": [
    "import pandas as pd"
   ]
  },
  {
   "cell_type": "code",
   "execution_count": 2,
   "id": "4079de4b",
   "metadata": {},
   "outputs": [],
   "source": [
    "maxvol=80\n",
    "dim=9"
   ]
  },
  {
   "cell_type": "code",
   "execution_count": 3,
   "id": "f46385c3",
   "metadata": {},
   "outputs": [],
   "source": [
    "comp=[\"Glucose\",\"NH4NO3\",\"MgSO4\",\"KH2PO4\",\"Na2HPO4\",\"Na2EDTA\",\"CaCl2\",\"FeSO4\",\"MnSO4\"]\n",
    "voli=[maxvol]*dim"
   ]
  },
  {
   "cell_type": "code",
   "execution_count": 4,
   "id": "04d2e717",
   "metadata": {},
   "outputs": [],
   "source": [
    "datos=pd.DataFrame({\"compound\":comp,\"max_vol\":voli})"
   ]
  },
  {
   "cell_type": "code",
   "execution_count": 5,
   "id": "27521f8f",
   "metadata": {},
   "outputs": [
    {
     "data": {
      "text/html": [
       "<div>\n",
       "<style scoped>\n",
       "    .dataframe tbody tr th:only-of-type {\n",
       "        vertical-align: middle;\n",
       "    }\n",
       "\n",
       "    .dataframe tbody tr th {\n",
       "        vertical-align: top;\n",
       "    }\n",
       "\n",
       "    .dataframe thead th {\n",
       "        text-align: right;\n",
       "    }\n",
       "</style>\n",
       "<table border=\"1\" class=\"dataframe\">\n",
       "  <thead>\n",
       "    <tr style=\"text-align: right;\">\n",
       "      <th></th>\n",
       "      <th>compound</th>\n",
       "      <th>max_vol</th>\n",
       "    </tr>\n",
       "  </thead>\n",
       "  <tbody>\n",
       "    <tr>\n",
       "      <th>0</th>\n",
       "      <td>Glucose</td>\n",
       "      <td>80</td>\n",
       "    </tr>\n",
       "    <tr>\n",
       "      <th>1</th>\n",
       "      <td>NH4NO3</td>\n",
       "      <td>80</td>\n",
       "    </tr>\n",
       "    <tr>\n",
       "      <th>2</th>\n",
       "      <td>MgSO4</td>\n",
       "      <td>80</td>\n",
       "    </tr>\n",
       "    <tr>\n",
       "      <th>3</th>\n",
       "      <td>KH2PO4</td>\n",
       "      <td>80</td>\n",
       "    </tr>\n",
       "    <tr>\n",
       "      <th>4</th>\n",
       "      <td>Na2HPO4</td>\n",
       "      <td>80</td>\n",
       "    </tr>\n",
       "    <tr>\n",
       "      <th>5</th>\n",
       "      <td>Na2EDTA</td>\n",
       "      <td>80</td>\n",
       "    </tr>\n",
       "    <tr>\n",
       "      <th>6</th>\n",
       "      <td>CaCl2</td>\n",
       "      <td>80</td>\n",
       "    </tr>\n",
       "    <tr>\n",
       "      <th>7</th>\n",
       "      <td>FeSO4</td>\n",
       "      <td>80</td>\n",
       "    </tr>\n",
       "    <tr>\n",
       "      <th>8</th>\n",
       "      <td>MnSO4</td>\n",
       "      <td>80</td>\n",
       "    </tr>\n",
       "  </tbody>\n",
       "</table>\n",
       "</div>"
      ],
      "text/plain": [
       "  compound  max_vol\n",
       "0  Glucose       80\n",
       "1   NH4NO3       80\n",
       "2    MgSO4       80\n",
       "3   KH2PO4       80\n",
       "4  Na2HPO4       80\n",
       "5  Na2EDTA       80\n",
       "6    CaCl2       80\n",
       "7    FeSO4       80\n",
       "8    MnSO4       80"
      ]
     },
     "execution_count": 5,
     "metadata": {},
     "output_type": "execute_result"
    }
   ],
   "source": [
    "datos"
   ]
  },
  {
   "cell_type": "code",
   "execution_count": 7,
   "id": "ecc4902d",
   "metadata": {},
   "outputs": [],
   "source": [
    "datos[\"min_concentration_mM\"]=[0]*dim\n",
    "datos[\"max_concentration_mM\"]=[4,240,2,50,50,0.2,0.2,0.2,0.2]"
   ]
  },
  {
   "cell_type": "code",
   "execution_count": 8,
   "id": "b686a8fc",
   "metadata": {},
   "outputs": [],
   "source": [
    "datos[\"max_stock_mM\"]=800*datos[\"max_concentration_mM\"]/(datos[\"max_vol\"])"
   ]
  },
  {
   "cell_type": "code",
   "execution_count": 9,
   "id": "142b7aa1",
   "metadata": {},
   "outputs": [],
   "source": [
    "datos.to_csv(\"stock_table.csv\",index=False)"
   ]
  },
  {
   "cell_type": "code",
   "execution_count": 10,
   "id": "455f6430",
   "metadata": {},
   "outputs": [],
   "source": [
    "moldic=dict(zip(comp,[10, 80.043,246.47,136.086,141.96,374.27,110.98,151.908,151.001]))"
   ]
  },
  {
   "cell_type": "code",
   "execution_count": 11,
   "id": "1ca7bab1",
   "metadata": {},
   "outputs": [],
   "source": [
    "datos[\"weight_250_volume_g\"]=(datos[\"max_stock_mM\"]*datos[\"compound\"].apply(lambda x: moldic[x])*250)/(1000*1000)\n",
    "datos[\"weight_250_volume_mg\"]=datos[\"weight_250_volume_g\"]*1000"
   ]
  },
  {
   "cell_type": "code",
   "execution_count": 12,
   "id": "e8562216",
   "metadata": {
    "scrolled": true
   },
   "outputs": [
    {
     "data": {
      "text/html": [
       "<div>\n",
       "<style scoped>\n",
       "    .dataframe tbody tr th:only-of-type {\n",
       "        vertical-align: middle;\n",
       "    }\n",
       "\n",
       "    .dataframe tbody tr th {\n",
       "        vertical-align: top;\n",
       "    }\n",
       "\n",
       "    .dataframe thead th {\n",
       "        text-align: right;\n",
       "    }\n",
       "</style>\n",
       "<table border=\"1\" class=\"dataframe\">\n",
       "  <thead>\n",
       "    <tr style=\"text-align: right;\">\n",
       "      <th></th>\n",
       "      <th>compound</th>\n",
       "      <th>max_vol</th>\n",
       "      <th>min_concentration_mM</th>\n",
       "      <th>max_concentration_mM</th>\n",
       "      <th>max_stock_mM</th>\n",
       "      <th>weight_250_volume_g</th>\n",
       "      <th>weight_250_volume_mg</th>\n",
       "    </tr>\n",
       "  </thead>\n",
       "  <tbody>\n",
       "    <tr>\n",
       "      <th>0</th>\n",
       "      <td>Glucose</td>\n",
       "      <td>80</td>\n",
       "      <td>0</td>\n",
       "      <td>4.0</td>\n",
       "      <td>40.0</td>\n",
       "      <td>0.100000</td>\n",
       "      <td>100.0000</td>\n",
       "    </tr>\n",
       "    <tr>\n",
       "      <th>1</th>\n",
       "      <td>NH4NO3</td>\n",
       "      <td>80</td>\n",
       "      <td>0</td>\n",
       "      <td>240.0</td>\n",
       "      <td>2400.0</td>\n",
       "      <td>48.025800</td>\n",
       "      <td>48025.8000</td>\n",
       "    </tr>\n",
       "    <tr>\n",
       "      <th>2</th>\n",
       "      <td>MgSO4</td>\n",
       "      <td>80</td>\n",
       "      <td>0</td>\n",
       "      <td>2.0</td>\n",
       "      <td>20.0</td>\n",
       "      <td>1.232350</td>\n",
       "      <td>1232.3500</td>\n",
       "    </tr>\n",
       "    <tr>\n",
       "      <th>3</th>\n",
       "      <td>KH2PO4</td>\n",
       "      <td>80</td>\n",
       "      <td>0</td>\n",
       "      <td>50.0</td>\n",
       "      <td>500.0</td>\n",
       "      <td>17.010750</td>\n",
       "      <td>17010.7500</td>\n",
       "    </tr>\n",
       "    <tr>\n",
       "      <th>4</th>\n",
       "      <td>Na2HPO4</td>\n",
       "      <td>80</td>\n",
       "      <td>0</td>\n",
       "      <td>50.0</td>\n",
       "      <td>500.0</td>\n",
       "      <td>17.745000</td>\n",
       "      <td>17745.0000</td>\n",
       "    </tr>\n",
       "    <tr>\n",
       "      <th>5</th>\n",
       "      <td>Na2EDTA</td>\n",
       "      <td>80</td>\n",
       "      <td>0</td>\n",
       "      <td>0.2</td>\n",
       "      <td>2.0</td>\n",
       "      <td>0.187135</td>\n",
       "      <td>187.1350</td>\n",
       "    </tr>\n",
       "    <tr>\n",
       "      <th>6</th>\n",
       "      <td>CaCl2</td>\n",
       "      <td>80</td>\n",
       "      <td>0</td>\n",
       "      <td>0.2</td>\n",
       "      <td>2.0</td>\n",
       "      <td>0.055490</td>\n",
       "      <td>55.4900</td>\n",
       "    </tr>\n",
       "    <tr>\n",
       "      <th>7</th>\n",
       "      <td>FeSO4</td>\n",
       "      <td>80</td>\n",
       "      <td>0</td>\n",
       "      <td>0.2</td>\n",
       "      <td>2.0</td>\n",
       "      <td>0.075954</td>\n",
       "      <td>75.9540</td>\n",
       "    </tr>\n",
       "    <tr>\n",
       "      <th>8</th>\n",
       "      <td>MnSO4</td>\n",
       "      <td>80</td>\n",
       "      <td>0</td>\n",
       "      <td>0.2</td>\n",
       "      <td>2.0</td>\n",
       "      <td>0.075500</td>\n",
       "      <td>75.5005</td>\n",
       "    </tr>\n",
       "  </tbody>\n",
       "</table>\n",
       "</div>"
      ],
      "text/plain": [
       "  compound  max_vol  min_concentration_mM  max_concentration_mM  max_stock_mM  \\\n",
       "0  Glucose       80                     0                   4.0          40.0   \n",
       "1   NH4NO3       80                     0                 240.0        2400.0   \n",
       "2    MgSO4       80                     0                   2.0          20.0   \n",
       "3   KH2PO4       80                     0                  50.0         500.0   \n",
       "4  Na2HPO4       80                     0                  50.0         500.0   \n",
       "5  Na2EDTA       80                     0                   0.2           2.0   \n",
       "6    CaCl2       80                     0                   0.2           2.0   \n",
       "7    FeSO4       80                     0                   0.2           2.0   \n",
       "8    MnSO4       80                     0                   0.2           2.0   \n",
       "\n",
       "   weight_250_volume_g  weight_250_volume_mg  \n",
       "0             0.100000              100.0000  \n",
       "1            48.025800            48025.8000  \n",
       "2             1.232350             1232.3500  \n",
       "3            17.010750            17010.7500  \n",
       "4            17.745000            17745.0000  \n",
       "5             0.187135              187.1350  \n",
       "6             0.055490               55.4900  \n",
       "7             0.075954               75.9540  \n",
       "8             0.075500               75.5005  "
      ]
     },
     "execution_count": 12,
     "metadata": {},
     "output_type": "execute_result"
    }
   ],
   "source": [
    "datos"
   ]
  },
  {
   "cell_type": "code",
   "execution_count": 13,
   "id": "99bce99b",
   "metadata": {},
   "outputs": [],
   "source": [
    "revi=datos[[\"compound\",\"max_stock_mM\"]].copy()"
   ]
  },
  {
   "cell_type": "code",
   "execution_count": 14,
   "id": "db0fb056",
   "metadata": {},
   "outputs": [],
   "source": [
    "revi[\"cooper_concentration_mM\"]=[4,50,0.8,30,40,0.004,0.007,0.004,0.001]"
   ]
  },
  {
   "cell_type": "code",
   "execution_count": 15,
   "id": "6950909d",
   "metadata": {},
   "outputs": [],
   "source": [
    "#revi[\"copper_volume\"]=\n",
    "revi[\"cooper_salts_2x_volume_100_ml\"]=2*revi[\"cooper_concentration_mM\"]*100/revi[\"max_stock_mM\"]\n",
    "revi[\"cooper_volume_100_ml\"]=revi[\"cooper_concentration_mM\"]*200/revi[\"max_stock_mM\"]"
   ]
  },
  {
   "cell_type": "code",
   "execution_count": 16,
   "id": "1bf18ff1",
   "metadata": {},
   "outputs": [],
   "source": [
    "revi[\"max_stock_M\"]=revi[\"max_stock_mM\"]/1000"
   ]
  },
  {
   "cell_type": "code",
   "execution_count": 17,
   "id": "4f14adc6",
   "metadata": {},
   "outputs": [],
   "source": [
    "revi.to_csv(\"cooper_preparation.csv\",index=False)"
   ]
  },
  {
   "cell_type": "code",
   "execution_count": 18,
   "id": "2fd5621e",
   "metadata": {},
   "outputs": [
    {
     "data": {
      "text/plain": [
       "118.23333333333332"
      ]
     },
     "execution_count": 18,
     "metadata": {},
     "output_type": "execute_result"
    }
   ],
   "source": [
    "180-sum(revi[\"cooper_volume_100_ml\"])"
   ]
  },
  {
   "cell_type": "code",
   "execution_count": 19,
   "id": "8342a8c1",
   "metadata": {},
   "outputs": [
    {
     "data": {
      "text/plain": [
       "62.4"
      ]
     },
     "execution_count": 19,
     "metadata": {},
     "output_type": "execute_result"
    }
   ],
   "source": [
    "100-(8+12+16+0.4+0.7+0.4+0.1)"
   ]
  },
  {
   "cell_type": "code",
   "execution_count": null,
   "id": "51077f1f",
   "metadata": {},
   "outputs": [],
   "source": []
  }
 ],
 "metadata": {
  "kernelspec": {
   "display_name": "Python [conda env:datos]",
   "language": "python",
   "name": "conda-env-datos-py"
  },
  "language_info": {
   "codemirror_mode": {
    "name": "ipython",
    "version": 3
   },
   "file_extension": ".py",
   "mimetype": "text/x-python",
   "name": "python",
   "nbconvert_exporter": "python",
   "pygments_lexer": "ipython3",
   "version": "3.10.6"
  }
 },
 "nbformat": 4,
 "nbformat_minor": 5
}
