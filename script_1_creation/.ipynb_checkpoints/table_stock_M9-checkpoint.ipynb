{
 "cells": [
  {
   "cell_type": "code",
   "execution_count": 22,
   "id": "e1894b03",
   "metadata": {},
   "outputs": [],
   "source": [
    "import pandas as pd"
   ]
  },
  {
   "cell_type": "code",
   "execution_count": 23,
   "id": "4079de4b",
   "metadata": {},
   "outputs": [],
   "source": [
    "maxvol=80\n",
    "dim=7"
   ]
  },
  {
   "cell_type": "code",
   "execution_count": 24,
   "id": "f46385c3",
   "metadata": {},
   "outputs": [],
   "source": [
    "comp=[\"Glucose\",\"NH4Cl\",\"MgSO4\",\"KH2PO4\",\"Na2HPO4\",\"CaCl2\",\"NaCl\"]\n",
    "voli=[maxvol]*dim"
   ]
  },
  {
   "cell_type": "code",
   "execution_count": 25,
   "id": "04d2e717",
   "metadata": {},
   "outputs": [],
   "source": [
    "datos=pd.DataFrame({\"compound\":comp,\"max_vol\":voli})"
   ]
  },
  {
   "cell_type": "code",
   "execution_count": 26,
   "id": "27521f8f",
   "metadata": {},
   "outputs": [
    {
     "data": {
      "text/html": [
       "<div>\n",
       "<style scoped>\n",
       "    .dataframe tbody tr th:only-of-type {\n",
       "        vertical-align: middle;\n",
       "    }\n",
       "\n",
       "    .dataframe tbody tr th {\n",
       "        vertical-align: top;\n",
       "    }\n",
       "\n",
       "    .dataframe thead th {\n",
       "        text-align: right;\n",
       "    }\n",
       "</style>\n",
       "<table border=\"1\" class=\"dataframe\">\n",
       "  <thead>\n",
       "    <tr style=\"text-align: right;\">\n",
       "      <th></th>\n",
       "      <th>compound</th>\n",
       "      <th>max_vol</th>\n",
       "    </tr>\n",
       "  </thead>\n",
       "  <tbody>\n",
       "    <tr>\n",
       "      <th>0</th>\n",
       "      <td>Glucose</td>\n",
       "      <td>80</td>\n",
       "    </tr>\n",
       "    <tr>\n",
       "      <th>1</th>\n",
       "      <td>NH4Cl</td>\n",
       "      <td>80</td>\n",
       "    </tr>\n",
       "    <tr>\n",
       "      <th>2</th>\n",
       "      <td>MgSO4</td>\n",
       "      <td>80</td>\n",
       "    </tr>\n",
       "    <tr>\n",
       "      <th>3</th>\n",
       "      <td>KH2PO4</td>\n",
       "      <td>80</td>\n",
       "    </tr>\n",
       "    <tr>\n",
       "      <th>4</th>\n",
       "      <td>Na2HPO4</td>\n",
       "      <td>80</td>\n",
       "    </tr>\n",
       "    <tr>\n",
       "      <th>5</th>\n",
       "      <td>CaCl2</td>\n",
       "      <td>80</td>\n",
       "    </tr>\n",
       "    <tr>\n",
       "      <th>6</th>\n",
       "      <td>NaCl</td>\n",
       "      <td>80</td>\n",
       "    </tr>\n",
       "  </tbody>\n",
       "</table>\n",
       "</div>"
      ],
      "text/plain": [
       "  compound  max_vol\n",
       "0  Glucose       80\n",
       "1    NH4Cl       80\n",
       "2    MgSO4       80\n",
       "3   KH2PO4       80\n",
       "4  Na2HPO4       80\n",
       "5    CaCl2       80\n",
       "6     NaCl       80"
      ]
     },
     "execution_count": 26,
     "metadata": {},
     "output_type": "execute_result"
    }
   ],
   "source": [
    "datos"
   ]
  },
  {
   "cell_type": "code",
   "execution_count": 27,
   "id": "ecc4902d",
   "metadata": {},
   "outputs": [],
   "source": [
    "datos[\"min_concentration_mM\"]=[0]*dim\n",
    "datos[\"max_concentration_mM\"]=[4,240,2,50,50,0.2,50]"
   ]
  },
  {
   "cell_type": "code",
   "execution_count": 28,
   "id": "b686a8fc",
   "metadata": {},
   "outputs": [],
   "source": [
    "datos[\"max_stock_mM\"]=800*datos[\"max_concentration_mM\"]/(datos[\"max_vol\"])"
   ]
  },
  {
   "cell_type": "code",
   "execution_count": 29,
   "id": "142b7aa1",
   "metadata": {},
   "outputs": [],
   "source": [
    "datos.to_csv(\"stock_table_M9.csv\",index=False)"
   ]
  },
  {
   "cell_type": "code",
   "execution_count": 30,
   "id": "455f6430",
   "metadata": {},
   "outputs": [],
   "source": [
    "moldic=dict(zip(comp,[10, 53.491,246.47,136.086,141.96,110.98,58.44]))"
   ]
  },
  {
   "cell_type": "code",
   "execution_count": 31,
   "id": "1ca7bab1",
   "metadata": {},
   "outputs": [],
   "source": [
    "datos[\"weight_250_volume_g\"]=(datos[\"max_stock_mM\"]*datos[\"compound\"].apply(lambda x: moldic[x])*250)/(1000*1000)\n",
    "datos[\"weight_250_volume_mg\"]=datos[\"weight_250_volume_g\"]*1000"
   ]
  },
  {
   "cell_type": "code",
   "execution_count": 32,
   "id": "e8562216",
   "metadata": {
    "scrolled": true
   },
   "outputs": [
    {
     "data": {
      "text/html": [
       "<div>\n",
       "<style scoped>\n",
       "    .dataframe tbody tr th:only-of-type {\n",
       "        vertical-align: middle;\n",
       "    }\n",
       "\n",
       "    .dataframe tbody tr th {\n",
       "        vertical-align: top;\n",
       "    }\n",
       "\n",
       "    .dataframe thead th {\n",
       "        text-align: right;\n",
       "    }\n",
       "</style>\n",
       "<table border=\"1\" class=\"dataframe\">\n",
       "  <thead>\n",
       "    <tr style=\"text-align: right;\">\n",
       "      <th></th>\n",
       "      <th>compound</th>\n",
       "      <th>max_vol</th>\n",
       "      <th>min_concentration_mM</th>\n",
       "      <th>max_concentration_mM</th>\n",
       "      <th>max_stock_mM</th>\n",
       "      <th>weight_250_volume_g</th>\n",
       "      <th>weight_250_volume_mg</th>\n",
       "    </tr>\n",
       "  </thead>\n",
       "  <tbody>\n",
       "    <tr>\n",
       "      <th>0</th>\n",
       "      <td>Glucose</td>\n",
       "      <td>80</td>\n",
       "      <td>0</td>\n",
       "      <td>4.0</td>\n",
       "      <td>40.0</td>\n",
       "      <td>0.10000</td>\n",
       "      <td>100.00</td>\n",
       "    </tr>\n",
       "    <tr>\n",
       "      <th>1</th>\n",
       "      <td>NH4Cl</td>\n",
       "      <td>80</td>\n",
       "      <td>0</td>\n",
       "      <td>240.0</td>\n",
       "      <td>2400.0</td>\n",
       "      <td>32.09460</td>\n",
       "      <td>32094.60</td>\n",
       "    </tr>\n",
       "    <tr>\n",
       "      <th>2</th>\n",
       "      <td>MgSO4</td>\n",
       "      <td>80</td>\n",
       "      <td>0</td>\n",
       "      <td>2.0</td>\n",
       "      <td>20.0</td>\n",
       "      <td>1.23235</td>\n",
       "      <td>1232.35</td>\n",
       "    </tr>\n",
       "    <tr>\n",
       "      <th>3</th>\n",
       "      <td>KH2PO4</td>\n",
       "      <td>80</td>\n",
       "      <td>0</td>\n",
       "      <td>50.0</td>\n",
       "      <td>500.0</td>\n",
       "      <td>17.01075</td>\n",
       "      <td>17010.75</td>\n",
       "    </tr>\n",
       "    <tr>\n",
       "      <th>4</th>\n",
       "      <td>Na2HPO4</td>\n",
       "      <td>80</td>\n",
       "      <td>0</td>\n",
       "      <td>50.0</td>\n",
       "      <td>500.0</td>\n",
       "      <td>17.74500</td>\n",
       "      <td>17745.00</td>\n",
       "    </tr>\n",
       "    <tr>\n",
       "      <th>5</th>\n",
       "      <td>CaCl2</td>\n",
       "      <td>80</td>\n",
       "      <td>0</td>\n",
       "      <td>0.2</td>\n",
       "      <td>2.0</td>\n",
       "      <td>0.05549</td>\n",
       "      <td>55.49</td>\n",
       "    </tr>\n",
       "    <tr>\n",
       "      <th>6</th>\n",
       "      <td>NaCl</td>\n",
       "      <td>80</td>\n",
       "      <td>0</td>\n",
       "      <td>50.0</td>\n",
       "      <td>500.0</td>\n",
       "      <td>7.30500</td>\n",
       "      <td>7305.00</td>\n",
       "    </tr>\n",
       "  </tbody>\n",
       "</table>\n",
       "</div>"
      ],
      "text/plain": [
       "  compound  max_vol  min_concentration_mM  max_concentration_mM  max_stock_mM  \\\n",
       "0  Glucose       80                     0                   4.0          40.0   \n",
       "1    NH4Cl       80                     0                 240.0        2400.0   \n",
       "2    MgSO4       80                     0                   2.0          20.0   \n",
       "3   KH2PO4       80                     0                  50.0         500.0   \n",
       "4  Na2HPO4       80                     0                  50.0         500.0   \n",
       "5    CaCl2       80                     0                   0.2           2.0   \n",
       "6     NaCl       80                     0                  50.0         500.0   \n",
       "\n",
       "   weight_250_volume_g  weight_250_volume_mg  \n",
       "0              0.10000                100.00  \n",
       "1             32.09460              32094.60  \n",
       "2              1.23235               1232.35  \n",
       "3             17.01075              17010.75  \n",
       "4             17.74500              17745.00  \n",
       "5              0.05549                 55.49  \n",
       "6              7.30500               7305.00  "
      ]
     },
     "execution_count": 32,
     "metadata": {},
     "output_type": "execute_result"
    }
   ],
   "source": [
    "datos"
   ]
  },
  {
   "cell_type": "code",
   "execution_count": 33,
   "id": "99bce99b",
   "metadata": {},
   "outputs": [],
   "source": [
    "revi=datos[[\"compound\",\"max_stock_mM\"]].copy()"
   ]
  },
  {
   "cell_type": "code",
   "execution_count": 34,
   "id": "db0fb056",
   "metadata": {},
   "outputs": [],
   "source": [
    "revi[\"M9_concentration_mM\"]=[0.4,18.7,2,22,42.3,0.1,8.55]"
   ]
  },
  {
   "cell_type": "code",
   "execution_count": 35,
   "id": "6950909d",
   "metadata": {},
   "outputs": [],
   "source": [
    "#revi[\"copper_volume\"]=\n",
    "revi[\"M9_salts_2x_volume_100_ml\"]=2*revi[\"M9_concentration_mM\"]*100/revi[\"max_stock_mM\"]\n",
    "revi[\"M9_volume_100_ml\"]=revi[\"M9_concentration_mM\"]*200/revi[\"max_stock_mM\"]"
   ]
  },
  {
   "cell_type": "code",
   "execution_count": 36,
   "id": "1bf18ff1",
   "metadata": {},
   "outputs": [],
   "source": [
    "revi[\"max_stock_M\"]=revi[\"max_stock_mM\"]/1000"
   ]
  },
  {
   "cell_type": "code",
   "execution_count": 37,
   "id": "4f14adc6",
   "metadata": {},
   "outputs": [],
   "source": [
    "revi.to_csv(\"M9_preparation.csv\",index=False)"
   ]
  },
  {
   "cell_type": "code",
   "execution_count": 38,
   "id": "2fd5621e",
   "metadata": {},
   "outputs": [
    {
     "data": {
      "text/plain": [
       "117.30166666666666"
      ]
     },
     "execution_count": 38,
     "metadata": {},
     "output_type": "execute_result"
    }
   ],
   "source": [
    "180-sum(revi[\"M9_volume_100_ml\"])"
   ]
  },
  {
   "cell_type": "code",
   "execution_count": 39,
   "id": "8342a8c1",
   "metadata": {},
   "outputs": [
    {
     "data": {
      "text/plain": [
       "62.4"
      ]
     },
     "execution_count": 39,
     "metadata": {},
     "output_type": "execute_result"
    }
   ],
   "source": [
    "#100-(8+12+16+0.4+0.7+0.4+0.1)"
   ]
  },
  {
   "cell_type": "code",
   "execution_count": null,
   "id": "51077f1f",
   "metadata": {},
   "outputs": [],
   "source": []
  }
 ],
 "metadata": {
  "kernelspec": {
   "display_name": "Python [conda env:datos]",
   "language": "python",
   "name": "conda-env-datos-py"
  },
  "language_info": {
   "codemirror_mode": {
    "name": "ipython",
    "version": 3
   },
   "file_extension": ".py",
   "mimetype": "text/x-python",
   "name": "python",
   "nbconvert_exporter": "python",
   "pygments_lexer": "ipython3",
   "version": "3.10.6"
  }
 },
 "nbformat": 4,
 "nbformat_minor": 5
}
